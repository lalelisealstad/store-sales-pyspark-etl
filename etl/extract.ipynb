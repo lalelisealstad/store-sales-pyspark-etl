{
 "cells": [
  {
   "cell_type": "code",
   "execution_count": 2,
   "metadata": {},
   "outputs": [
    {
     "data": {
      "text/plain": [
       "'/Users/elisealstad/code/liqour-sales-spark-etl'"
      ]
     },
     "execution_count": 2,
     "metadata": {},
     "output_type": "execute_result"
    }
   ],
   "source": [
    "# set working directory to same place as main.py to import programs the same way as the app\n",
    "import os\n",
    "current_directory = os.getcwd()\n",
    "if '/etl' in current_directory:\n",
    "    parent_directory = os.path.abspath(os.path.join(current_directory, os.pardir))\n",
    "    os.chdir(parent_directory)\n",
    "os.getcwd()"
   ]
  },
  {
   "cell_type": "code",
   "execution_count": 62,
   "metadata": {},
   "outputs": [],
   "source": [
    "from pyspark.sql import SparkSession\n",
    "from pyspark.sql.types import * \n",
    "from pyspark.sql.functions import round, col, abs, concat, lit\n",
    "from pyspark.sql import functions as F\n"
   ]
  },
  {
   "cell_type": "code",
   "execution_count": 3,
   "metadata": {},
   "outputs": [
    {
     "name": "stderr",
     "output_type": "stream",
     "text": [
      "Setting default log level to \"WARN\".\n",
      "To adjust logging level use sc.setLogLevel(newLevel). For SparkR, use setLogLevel(newLevel).\n",
      "24/09/22 17:16:21 WARN NativeCodeLoader: Unable to load native-hadoop library for your platform... using builtin-java classes where applicable\n"
     ]
    }
   ],
   "source": [
    "\n",
    "\n",
    "# Set GCP project ID and dataset details\n",
    "project_id = 'bigquery-public-data'\n",
    "dataset = 'iowa_liquor_sales'\n",
    "table = 'sales'\n",
    "\n",
    "\n",
    "\n",
    "spark = SparkSession.builder \\\n",
    "    .appName('BigQuery Iowa Liquor Sales') \\\n",
    "    .getOrCreate()\n",
    "\n",
    "# # Read the BigQuery data into a DataFrame\n",
    "# df = spark.read \\\n",
    "#     .format('bigquery') \\\n",
    "#     .option('project', project_id) \\\n",
    "#     .option('dataset', dataset) \\\n",
    "#     .option('table', table) \\\n",
    "#     .load()\n",
    "\n",
    "# Show a few rows from the dataset\n",
    "# Optionally stop the Spark session\n",
    "# spark.stop()\n"
   ]
  },
  {
   "cell_type": "code",
   "execution_count": 4,
   "metadata": {},
   "outputs": [
    {
     "name": "stdout",
     "output_type": "stream",
     "text": [
      "+-----------------------+----------+------------+--------------------+--------------------+---------------+--------+--------------------+-------------+----------+---------+--------------------+-------------+--------------------+-----------+--------------------+----+----------------+-----------------+-------------------+------------+------------+------------------+-------------------+\n",
      "|invoice_and_item_number|      date|store_number|          store_name|             address|           city|zip_code|      store_location|county_number|    county| category|       category_name|vendor_number|         vendor_name|item_number|    item_description|pack|bottle_volume_ml|state_bottle_cost|state_bottle_retail|bottles_sold|sale_dollars|volume_sold_liters|volume_sold_gallons|\n",
      "+-----------------------+----------+------------+--------------------+--------------------+---------------+--------+--------------------+-------------+----------+---------+--------------------+-------------+--------------------+-----------+--------------------+----+----------------+-----------------+-------------------+------------+------------+------------------+-------------------+\n",
      "|       RINV-05128000044|2024-02-08|       10268|NEIGHBORHOOD FOOD...|      1601 6TH ST SW|   CEDAR RAPIDS| 52404.0|POINT(-91.6767322...|         NULL|      LINN|1031100.0|     AMERICAN VODKAS|          434|           LUXCO INC|      36308|       HAWKEYE VODKA|   6|            1750|              7.5|              11.25|         -36|      -405.0|             -63.0|             -16.64|\n",
      "|       RINV-04603600073|2023-04-18|        5600|     H & A MINI MART|  145 UNIVERSITY AVE|     DES MOINES| 50314.0|POINT(-93.6192429...|         NULL|      POLK|  1032100|     IMPORTED VODKAS|          370|   PERNOD RICARD USA|      34006|ABSOLUT SWEDISH V...|  12|             750|             9.99|              14.99|         -60|      -899.4|             -45.0|             -11.88|\n",
      "|       RINV-04940600108|2023-11-06|        5916|ANOTHER ROUND / D...|       622 S 6TH AVE|         DEWITT| 52742.0|POINT(-90.5389962...|         NULL|   CLINTON|  1032100|     IMPORTED VODKAS|           35|     BACARDI USA INC|      34422|          GREY GOOSE|   6|            1000|             19.0|               28.5|         -30|      -855.0|             -30.0|              -7.92|\n",
      "|       RINV-05231100099|2024-04-19|        2619|HY-VEE WINE AND S...|       1725  74TH ST|WEST DES MOINES| 50266.0|POINT(-93.8087886...|         NULL|      POLK|  1032200|IMPORTED FLAVORED...|          260|     DIAGEO AMERICAS|      75183|KETEL ONE BOTANIC...|  12|             750|            11.33|               17.0|         -36|      -612.0|             -27.0|              -7.13|\n",
      "|       RINV-05206200010|2024-04-04|        4569|CAR-GO-EXPRESS / ...|202 WEST SOUTHERN ST|     SUTHERLAND| 51058.0|POINT(-95.4997399...|         NULL|   O'BRIEN|  1031100|     AMERICAN VODKAS|          297|     LAIRD & COMPANY|      35918|  FIVE O'CLOCK VODKA|   6|            1750|             7.72|              11.58|         -12|     -138.96|             -21.0|              -5.54|\n",
      "|       RINV-04950300036|2023-11-09|        3814|COSTCO WHOLESALE ...|7205 MILLS CIVIC ...|WEST DES MOINES| 50266.0|POINT(-93.8057509...|         NULL|    DALLAS|  1012300|  SINGLE MALT SCOTCH|          266|EDRINGTON GROUP U...|       5555|MACALLAN DOUBLE C...|  12|             750|            42.52|              63.78|         -24|    -1530.72|             -18.0|              -4.75|\n",
      "|       RINV-05036300049|2023-12-19|        5728| BEER THIRTY DENISON|923 4TH AVENUE SOUTH|        DENISON| 51442.0|POINT(-95.3600999...|         NULL|  CRAWFORD|1031100.0|     AMERICAN VODKAS|          421|SAZERAC COMPANY  INC|      35317|        BARTON VODKA|  12|            1000|             3.97|               5.96|         -12|      -71.52|             -12.0|              -3.17|\n",
      "|       RINV-04899100024|2023-10-13|        3494|SAM'S CLUB 6514 /...|210 EAST TOWER PA...|       WATERLOO| 50702.0|POINT(-92.3522870...|         NULL|BLACK HAWK|1081300.0|AMERICAN CORDIALS...|          434|           LUXCO INC|      76487|  PARAMOUNT AMARETTO|  12|            1000|              4.3|               6.45|         -12|       -77.4|             -12.0|              -3.17|\n",
      "|       RINV-04881000086|2023-10-04|        5916|ANOTHER ROUND / D...|       622 S 6TH AVE|         DEWITT| 52742.0|POINT(-90.5389962...|         NULL|   CLINTON|1081500.0|          TRIPLE SEC|          434|           LUXCO INC|      86251|   JUAREZ TRIPLE SEC|  12|            1000|              2.5|               3.75|         -12|       -45.0|             -12.0|              -3.17|\n",
      "|       RINV-04679700046|2023-06-07|        5257|   MAD AVE QUIK SHOP|    405, MADISON AVE|        OTTUMWA| 52501.0|POINT(-92.4106052...|         NULL|   WAPELLO|  1022100|       MIXTO TEQUILA|          421|SAZERAC COMPANY  INC|      88147|     MONTEZUMA WHITE|  12|            1000|              7.5|              11.25|         -12|      -135.0|             -12.0|              -3.17|\n",
      "+-----------------------+----------+------------+--------------------+--------------------+---------------+--------+--------------------+-------------+----------+---------+--------------------+-------------+--------------------+-----------+--------------------+----+----------------+-----------------+-------------------+------------+------------+------------------+-------------------+\n",
      "only showing top 10 rows\n",
      "\n"
     ]
    }
   ],
   "source": [
    "file_path = 'test_data/bquxjob_3567bd65_1921a4602ae.csv'\n",
    "\n",
    "# Read the CSV file using PySpark\n",
    "df = spark.read.option(\"header\", \"true\").csv(file_path)\n",
    "\n",
    "# Show the first 10 rows\n",
    "df.show(10)"
   ]
  },
  {
   "cell_type": "code",
   "execution_count": 73,
   "metadata": {},
   "outputs": [],
   "source": [
    "df_filtered = df.select(['store_name',\n",
    "                        'category_name',\n",
    "                        'item_description',\n",
    "                        'bottle_volume_ml',\n",
    "                        'vendor_number',                        \n",
    "                        'state_bottle_cost',\n",
    "                        'state_bottle_retail',\n",
    "                        'sale_dollars',\n",
    "                        'bottles_sold'])"
   ]
  },
  {
   "cell_type": "code",
   "execution_count": 74,
   "metadata": {},
   "outputs": [
    {
     "name": "stdout",
     "output_type": "stream",
     "text": [
      "root\n",
      " |-- store_name: string (nullable = true)\n",
      " |-- category_name: string (nullable = true)\n",
      " |-- item_description: string (nullable = true)\n",
      " |-- bottle_volume_ml: integer (nullable = true)\n",
      " |-- vendor_number: integer (nullable = true)\n",
      " |-- state_bottle_cost: double (nullable = true)\n",
      " |-- state_bottle_retail: double (nullable = true)\n",
      " |-- sale_dollars: double (nullable = true)\n",
      " |-- bottles_sold: integer (nullable = true)\n",
      "\n"
     ]
    }
   ],
   "source": [
    "# change dtypes \n",
    "\n",
    "dtypes= {\n",
    "        'bottle_volume_ml' : 'double',\n",
    "        'vendor_number' : 'int',\n",
    "        'state_bottle_retail' : 'double',\n",
    "        'state_bottle_cost' : 'double',\n",
    "        'sale_dollars' : 'double',\n",
    "        'bottles_sold' : 'int',\n",
    "        'bottle_volume_ml' : 'int'\n",
    "}\n",
    "\n",
    "# Loop through the dictionary to cast each column\n",
    "for col_name, new_dtype in dtypes.items():\n",
    "    df_filtered = df_filtered.withColumn(col_name, col(col_name).cast(new_dtype))\n",
    "    \n",
    "df_filtered.printSchema()"
   ]
  },
  {
   "cell_type": "code",
   "execution_count": 75,
   "metadata": {},
   "outputs": [],
   "source": [
    "# create columns\n",
    "df_filtered = df_filtered.withColumn('sale_dollars', abs(col('sale_dollars'))) \\\n",
    "                         .withColumn('bottles_sold', abs(col('bottles_sold')))\n",
    "\n",
    "df_filtered = df_filtered.withColumn('cost_dollars',round(col('state_bottle_cost') * col('bottles_sold'), 2))\n",
    "df_filtered = df_filtered.withColumn('revenue_dollars', round(col('sale_dollars') - col('cost_dollars'), 2))\n",
    "\n",
    "df_filtered = df_filtered.withColumn('item_description', concat(col('item_description'), lit(' '), col('bottle_volume_ml'), lit('ml')))"
   ]
  },
  {
   "cell_type": "code",
   "execution_count": 76,
   "metadata": {},
   "outputs": [
    {
     "name": "stdout",
     "output_type": "stream",
     "text": [
      "+--------------------+--------------------+--------------------+----------------+-------------+-----------------+-------------------+------------+------------+------------+---------------+\n",
      "|          store_name|       category_name|    item_description|bottle_volume_ml|vendor_number|state_bottle_cost|state_bottle_retail|sale_dollars|bottles_sold|cost_dollars|revenue_dollars|\n",
      "+--------------------+--------------------+--------------------+----------------+-------------+-----------------+-------------------+------------+------------+------------+---------------+\n",
      "|NEIGHBORHOOD FOOD...|     AMERICAN VODKAS|HAWKEYE VODKA 1750ml|            1750|          434|              7.5|              11.25|       405.0|          36|       270.0|          135.0|\n",
      "|     H & A MINI MART|     IMPORTED VODKAS|ABSOLUT SWEDISH V...|             750|          370|             9.99|              14.99|       899.4|          60|       599.4|          300.0|\n",
      "|ANOTHER ROUND / D...|     IMPORTED VODKAS|   GREY GOOSE 1000ml|            1000|           35|             19.0|               28.5|       855.0|          30|       570.0|          285.0|\n",
      "|HY-VEE WINE AND S...|IMPORTED FLAVORED...|KETEL ONE BOTANIC...|             750|          260|            11.33|               17.0|       612.0|          36|      407.88|         204.12|\n",
      "|CAR-GO-EXPRESS / ...|     AMERICAN VODKAS|FIVE O'CLOCK VODK...|            1750|          297|             7.72|              11.58|      138.96|          12|       92.64|          46.32|\n",
      "|COSTCO WHOLESALE ...|  SINGLE MALT SCOTCH|MACALLAN DOUBLE C...|             750|          266|            42.52|              63.78|     1530.72|          24|     1020.48|         510.24|\n",
      "| BEER THIRTY DENISON|     AMERICAN VODKAS| BARTON VODKA 1000ml|            1000|          421|             3.97|               5.96|       71.52|          12|       47.64|          23.88|\n",
      "|SAM'S CLUB 6514 /...|AMERICAN CORDIALS...|PARAMOUNT AMARETT...|            1000|          434|              4.3|               6.45|        77.4|          12|        51.6|           25.8|\n",
      "|ANOTHER ROUND / D...|          TRIPLE SEC|JUAREZ TRIPLE SEC...|            1000|          434|              2.5|               3.75|        45.0|          12|        30.0|           15.0|\n",
      "|   MAD AVE QUIK SHOP|       MIXTO TEQUILA|MONTEZUMA WHITE 1...|            1000|          421|              7.5|              11.25|       135.0|          12|        90.0|           45.0|\n",
      "|SAM'S CLUB 4973 /...|   CANADIAN WHISKIES|  CROWN ROYAL 1750ml|            1750|          260|            33.99|              50.99|      305.94|           6|      203.94|          102.0|\n",
      "|CASEY'S GENERAL S...|     AMERICAN VODKAS|HAWKEYE VODKA 1750ml|            1750|          434|              7.5|              11.25|        67.5|           6|        45.0|           22.5|\n",
      "|WAL-MART 1965 / C...|     AMERICAN VODKAS|CALIBER VODKA 1750ml|            1750|          421|             6.92|              10.38|       62.28|           6|       41.52|          20.76|\n",
      "|HY-VEE - FOREST CITY|     AMERICAN VODKAS|TITOS HANDMADE VO...|            1750|          301|             19.0|               28.5|       171.0|           6|       114.0|           57.0|\n",
      "|WAL-MART 1285 / O...|       COCKTAILS/RTD|JOSE CUERVO AUTHE...|            1750|          395|             8.74|              13.11|       78.66|           6|       52.44|          26.22|\n",
      "|OSCO #1118 / CLINTON|TEMPORARY & SPECI...|CROWN ROYAL SALTE...|             750|          260|            17.49|              26.24|      314.88|          12|      209.88|          105.0|\n",
      "|HY-VEE WINE AND S...|      IRISH WHISKIES|FINAGRENS IRISH W...|             750|          380|            10.07|              15.11|      181.32|          12|      120.84|          60.48|\n",
      "|HY-VEE FOOD STORE...|STRAIGHT BOURBON ...|JIM BEAM APPLE 750ml|             750|           65|             11.0|               16.5|       198.0|          12|       132.0|           66.0|\n",
      "|CASEY'S GENERAL S...|     AMERICAN VODKAS|MCCORMICK 80PRF V...|             375|          300|             1.84|               2.76|       66.24|          24|       44.16|          22.08|\n",
      "|CASEY'S GENERAL S...|   CANADIAN WHISKIES|BLACK VELVET APPL...|             750|          259|              5.5|               8.25|        99.0|          12|        66.0|           33.0|\n",
      "+--------------------+--------------------+--------------------+----------------+-------------+-----------------+-------------------+------------+------------+------------+---------------+\n",
      "only showing top 20 rows\n",
      "\n"
     ]
    }
   ],
   "source": [
    "df_filtered.show()"
   ]
  },
  {
   "cell_type": "code",
   "execution_count": 78,
   "metadata": {},
   "outputs": [
    {
     "name": "stdout",
     "output_type": "stream",
     "text": [
      "+--------------------+--------------------+-------------+-----------------+-------------------+--------------------+------------------+------------------+------------------+---------------------+\n",
      "|          store_name|    item_description|vendor_number|state_bottle_cost|state_bottle_retail|       category_name|total_sale_dollars|total_bottles_sold|total_cost_dollars|total_revenue_dollars|\n",
      "+--------------------+--------------------+-------------+-----------------+-------------------+--------------------+------------------+------------------+------------------+---------------------+\n",
      "|COSTCO WHOLESALE ...|MACALLAN DOUBLE C...|          266|            42.52|              63.78|  SINGLE MALT SCOTCH|           1530.72|                24|           1020.48|               510.24|\n",
      "|     H & A MINI MART|ABSOLUT SWEDISH V...|          370|             9.99|              14.99|     IMPORTED VODKAS|             899.4|                60|             599.4|                300.0|\n",
      "|ANOTHER ROUND / D...|   GREY GOOSE 1000ml|           35|             19.0|               28.5|     IMPORTED VODKAS|             855.0|                30|             570.0|                285.0|\n",
      "|HY-VEE WINE AND S...|KETEL ONE BOTANIC...|          260|            11.33|               17.0|IMPORTED FLAVORED...|             612.0|                36|            407.88|               204.12|\n",
      "|HY-VEE #3 / BDI /...| PATRON SILVER 750ml|           35|             28.0|               42.0|  100% AGAVE TEQUILA|             504.0|                12|             336.0|                168.0|\n",
      "|NEIGHBORHOOD FOOD...|HAWKEYE VODKA 1750ml|          434|              7.5|              11.25|     AMERICAN VODKAS|             405.0|                36|             270.0|                135.0|\n",
      "|HY-VEE WINE AND S...| 1800 REPOSADO 750ml|          395|             17.5|              26.25|  100% AGAVE TEQUILA|             315.0|                12|             210.0|                105.0|\n",
      "|OSCO #1118 / CLINTON|CROWN ROYAL SALTE...|          260|            17.49|              26.24|TEMPORARY & SPECI...|            314.88|                12|            209.88|                105.0|\n",
      "|SAM'S CLUB 4973 /...|  CROWN ROYAL 1750ml|          260|            33.99|              50.99|   CANADIAN WHISKIES|            305.94|                 6|            203.94|                102.0|\n",
      "|CASEY'S GENERAL S...|FIREBALL CINNAMON...|          421|              4.3|               6.45|     WHISKEY LIQUEUR|             232.2|                36|             154.8|                 77.4|\n",
      "|WAUKEE LIQUOR & F...|TOMS TOWN DOUBLE ...|          690|            24.17|              36.26|STRAIGHT BOURBON ...|            217.56|                 6|            145.02|                72.54|\n",
      "|HY-VEE FOOD STORE...|JIM BEAM APPLE 750ml|           65|             11.0|               16.5|STRAIGHT BOURBON ...|             198.0|                12|             132.0|                 66.0|\n",
      "|HY-VEE WINE AND S...|FINAGRENS IRISH W...|          380|            10.07|              15.11|      IRISH WHISKIES|            181.32|                12|            120.84|                60.48|\n",
      "|     LIQUOR DOWNTOWN|FIREBALL CINNAMON...|          421|             60.0|               90.0|     WHISKEY LIQUEUR|             180.0|                 2|             120.0|                 60.0|\n",
      "|TOBACCO HUT PLUS ...|TULLIBARDINE ARTI...|          772|             19.0|               28.5|     SCOTCH WHISKIES|             171.0|                 6|             114.0|                 57.0|\n",
      "|HY-VEE - FOREST CITY|TITOS HANDMADE VO...|          301|             19.0|               28.5|     AMERICAN VODKAS|             171.0|                 6|             114.0|                 57.0|\n",
      "|         KWIK STOP 4|   1800 SILVER 375ml|          395|             9.25|              13.88|  100% AGAVE TEQUILA|            166.56|                12|             111.0|                55.56|\n",
      "|CASEY'S GENERAL S...|FIREBALL CINNAMON...|          421|             51.6|               77.4|     WHISKEY LIQUEUR|             154.8|                 2|             103.2|                 51.6|\n",
      "|HY-VEE FOOD STORE...|FIREBALL CINNAMON...|          421|             51.6|               77.4|     WHISKEY LIQUEUR|             154.8|                 2|             103.2|                 51.6|\n",
      "|CASEY'S GENERAL S...|99 PARTY BUCKET M...|          421|             51.6|               77.4|AMERICAN CORDIALS...|             154.8|                 2|             103.2|                 51.6|\n",
      "+--------------------+--------------------+-------------+-----------------+-------------------+--------------------+------------------+------------------+------------------+---------------------+\n",
      "only showing top 20 rows\n",
      "\n"
     ]
    }
   ],
   "source": [
    "df_grouped = df_filtered.groupBy(\n",
    "    'store_name', 'item_description', 'vendor_number', 'state_bottle_cost', 'state_bottle_retail', 'category_name'\n",
    ").agg(\n",
    "    F.round(F.sum('sale_dollars'), 2).alias('total_sale_dollars'),\n",
    "    F.sum('bottles_sold').alias('total_bottles_sold'),  # No need to round bottles_sold if it's an integer\n",
    "    F.round(F.sum('cost_dollars'), 2).alias('total_cost_dollars'),\n",
    "    F.round(F.sum('revenue_dollars'), 2).alias('total_revenue_dollars')\n",
    ").orderBy(F.col('total_revenue_dollars').desc())\n",
    "\n",
    "df_grouped.show()\n"
   ]
  },
  {
   "cell_type": "code",
   "execution_count": null,
   "metadata": {},
   "outputs": [],
   "source": []
  }
 ],
 "metadata": {
  "kernelspec": {
   "display_name": ".venv",
   "language": "python",
   "name": "python3"
  },
  "language_info": {
   "codemirror_mode": {
    "name": "ipython",
    "version": 3
   },
   "file_extension": ".py",
   "mimetype": "text/x-python",
   "name": "python",
   "nbconvert_exporter": "python",
   "pygments_lexer": "ipython3",
   "version": "3.12.4"
  }
 },
 "nbformat": 4,
 "nbformat_minor": 2
}
